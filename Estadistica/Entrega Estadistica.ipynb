{
 "cells": [
  {
   "cell_type": "markdown",
   "id": "54053b0d",
   "metadata": {},
   "source": [
    "## 📊 Entrega Estadística 📊\n",
    "### Santiago Torres Busquets\n",
    "#### Master Big Data & Data Science - Universidad Complutense de Madrid"
   ]
  },
  {
   "cell_type": "code",
   "execution_count": 1,
   "id": "006b8c76",
   "metadata": {},
   "outputs": [],
   "source": [
    "# Importación de librerías principales\n",
    "# Tratamiento de datos\n",
    "import pandas as pd\n",
    "import numpy as np\n",
    "\n",
    "# Gráficos\n",
    "import matplotlib.pyplot as plt\n",
    "from matplotlib import style\n",
    "\n",
    "# Otras librerias\n",
    "import statistics as s\n",
    "import statsmodels.api as sm\n",
    "import math\n",
    "\n",
    "# lectura del fichero excel que contienen las observaciones\n",
    "df = pd.read_excel('eval_master.xlsx')"
   ]
  },
  {
   "cell_type": "code",
   "execution_count": 2,
   "id": "4d506f0a",
   "metadata": {},
   "outputs": [
    {
     "data": {
      "text/html": [
       "<div>\n",
       "<style scoped>\n",
       "    .dataframe tbody tr th:only-of-type {\n",
       "        vertical-align: middle;\n",
       "    }\n",
       "\n",
       "    .dataframe tbody tr th {\n",
       "        vertical-align: top;\n",
       "    }\n",
       "\n",
       "    .dataframe thead th {\n",
       "        text-align: right;\n",
       "    }\n",
       "</style>\n",
       "<table border=\"1\" class=\"dataframe\">\n",
       "  <thead>\n",
       "    <tr style=\"text-align: right;\">\n",
       "      <th></th>\n",
       "      <th>Grupo de control</th>\n",
       "      <th>Nivel glucosa basal</th>\n",
       "      <th>Nivel glucosa 60 min</th>\n",
       "    </tr>\n",
       "  </thead>\n",
       "  <tbody>\n",
       "    <tr>\n",
       "      <th>0</th>\n",
       "      <td>1</td>\n",
       "      <td>90</td>\n",
       "      <td>159</td>\n",
       "    </tr>\n",
       "    <tr>\n",
       "      <th>1</th>\n",
       "      <td>1</td>\n",
       "      <td>82</td>\n",
       "      <td>151</td>\n",
       "    </tr>\n",
       "    <tr>\n",
       "      <th>2</th>\n",
       "      <td>1</td>\n",
       "      <td>80</td>\n",
       "      <td>148</td>\n",
       "    </tr>\n",
       "    <tr>\n",
       "      <th>3</th>\n",
       "      <td>1</td>\n",
       "      <td>75</td>\n",
       "      <td>138</td>\n",
       "    </tr>\n",
       "    <tr>\n",
       "      <th>4</th>\n",
       "      <td>1</td>\n",
       "      <td>74</td>\n",
       "      <td>141</td>\n",
       "    </tr>\n",
       "  </tbody>\n",
       "</table>\n",
       "</div>"
      ],
      "text/plain": [
       "   Grupo de control  Nivel glucosa basal  Nivel glucosa 60 min\n",
       "0                 1                   90                   159\n",
       "1                 1                   82                   151\n",
       "2                 1                   80                   148\n",
       "3                 1                   75                   138\n",
       "4                 1                   74                   141"
      ]
     },
     "execution_count": 2,
     "metadata": {},
     "output_type": "execute_result"
    }
   ],
   "source": [
    "# Vista previa del dataframe\n",
    "df.head()"
   ]
  },
  {
   "cell_type": "markdown",
   "id": "c7113530",
   "metadata": {},
   "source": [
    "### Ejercicio 1"
   ]
  },
  {
   "cell_type": "code",
   "execution_count": 3,
   "id": "3e868427",
   "metadata": {},
   "outputs": [],
   "source": [
    "# Separo los grupos de control\n",
    "grupo1 = df[df['Grupo de control'] == 1]\n",
    "grupo2 = df[df['Grupo de control'] == 2]"
   ]
  },
  {
   "cell_type": "markdown",
   "id": "faee6887",
   "metadata": {},
   "source": [
    "<b>a) Medidas de tendencia central y dispersión</b>"
   ]
  },
  {
   "cell_type": "code",
   "execution_count": 4,
   "id": "e54dfd9e",
   "metadata": {},
   "outputs": [
    {
     "name": "stdout",
     "output_type": "stream",
     "text": [
      "Mean:  84.68571428571428\n",
      "Median:  82.0\n",
      "Mode:  [90, 82, 75, 79]\n",
      "Variance:  78.22184873949581\n",
      "Standard Deviaton:  8.844311660016047\n",
      "Rango:  38\n",
      "RIC:  12\n"
     ]
    }
   ],
   "source": [
    "# defino la columna de nivel de glucosa basal - grupo 1\n",
    "ngb1 = grupo1['Nivel glucosa basal']\n",
    "\n",
    "# medidas de tendencia central - grupo 1\n",
    "mean_ngb1 = ngb1.mean()\n",
    "median_ngb1 = ngb1.median()\n",
    "mode_ngb1 = s.multimode(ngb1)\n",
    "\n",
    "# medidas de dispersion - grupo 1\n",
    "var_ngb1 = ngb1.var()\n",
    "std_ngb1 = ngb1.std()\n",
    "rango_ngb1 = ngb1.max() - ngb1.min()\n",
    "q1_ngb1 = ngb1.quantile(q=0.25, interpolation='lower')\n",
    "q3_ngb1 = ngb1.quantile(q=0.75, interpolation='lower')\n",
    "ric_ngb1 = q3_ngb1 - q1_ngb1\n",
    "\n",
    "# resultados - grupo 1\n",
    "print(\"Mean: \", mean_ngb1)\n",
    "print(\"Median: \", median_ngb1)\n",
    "print(\"Mode: \", mode_ngb1)\n",
    "print(\"Variance: \", var_ngb1)\n",
    "print(\"Standard Deviaton: \", std_ngb1)\n",
    "print(\"Rango: \", rango_ngb1)\n",
    "print(\"RIC: \", ric_ngb1)"
   ]
  },
  {
   "cell_type": "code",
   "execution_count": 5,
   "id": "54099979",
   "metadata": {},
   "outputs": [
    {
     "name": "stdout",
     "output_type": "stream",
     "text": [
      "Mean:  89.4\n",
      "Median:  90.0\n",
      "Mode:  88\n",
      "Variance:  53.97241379310344\n",
      "Standard Deviation:  7.346591984934473\n",
      "Rango:  27\n",
      "RIC:  10\n"
     ]
    }
   ],
   "source": [
    "# defino la columna de nivel de glucosa basal - grupo 2\n",
    "ngb2 = grupo2['Nivel glucosa basal']\n",
    "\n",
    "# medidas de tendencia central\n",
    "mean_ngb2 = ngb2.mean()\n",
    "median_ngb2 = ngb2.median()\n",
    "mode_ngb2 = ngb2.mode()[0]\n",
    "\n",
    "# medidas de dispersión\n",
    "var_ngb2 = ngb2.var()\n",
    "std_ngb2 = ngb2.std()\n",
    "rango_ngb2 = ngb2.max() - ngb2.min()\n",
    "q1_ngb2 = ngb2.quantile(q=0.25, interpolation='lower')\n",
    "q3_ngb2 = ngb2.quantile(q=0.75, interpolation='lower')\n",
    "ric_ngb2 = q3_ngb2 - q1_ngb2\n",
    "\n",
    "# resultados\n",
    "print(\"Mean: \", mean_ngb2)\n",
    "print(\"Median: \", median_ngb2)\n",
    "print(\"Mode: \", mode_ngb2)\n",
    "print(\"Variance: \", var_ngb2)\n",
    "print(\"Standard Deviation: \", std_ngb2)\n",
    "print(\"Rango: \", rango_ngb2)\n",
    "print(\"RIC: \", ric_ngb2)"
   ]
  },
  {
   "cell_type": "markdown",
   "id": "e5da1eeb",
   "metadata": {},
   "source": [
    "Comparando podemos observar que el grupo de control 1 se presenta levemente mas disperso que el grupo 2, aunque con valores no muy elevados."
   ]
  },
  {
   "cell_type": "markdown",
   "id": "729a6890",
   "metadata": {},
   "source": [
    "<b>Representatividad de las medias</b>"
   ]
  },
  {
   "cell_type": "code",
   "execution_count": 6,
   "id": "5322ad44",
   "metadata": {},
   "outputs": [
    {
     "name": "stdout",
     "output_type": "stream",
     "text": [
      "Coeficiente de Variación:  0.1044368785764378\n"
     ]
    }
   ],
   "source": [
    "# coeficiente de variacion (CV) del nivel de glucosa basal para el grupo de control 1\n",
    "cv1 = std_ngb1 / mean_ngb1\n",
    "print(\"Coeficiente de Variación: \",cv1)"
   ]
  },
  {
   "cell_type": "code",
   "execution_count": 7,
   "id": "5b761a71",
   "metadata": {},
   "outputs": [
    {
     "name": "stdout",
     "output_type": "stream",
     "text": [
      "Coeficiente de Variación:  0.08217664412678381\n"
     ]
    }
   ],
   "source": [
    "# coeficiente de variacion (CV) del nivel de glucosa basal para el grupo de control 2\n",
    "cv2 = std_ngb2 / mean_ngb2\n",
    "print(\"Coeficiente de Variación: \",cv2)"
   ]
  },
  {
   "cell_type": "markdown",
   "id": "a0f41225",
   "metadata": {},
   "source": [
    "Podemos observar que el coeficiente de variación para ambos grupos de control es menor a 0,30, por lo que la media puede considerarse <u>representativa</u> para ambos casos."
   ]
  },
  {
   "cell_type": "markdown",
   "id": "c276d519",
   "metadata": {},
   "source": [
    "<b>b) Asimetría y curtosis del nivel de glucosa basal en los adultos (grupo de control 2).</b>"
   ]
  },
  {
   "cell_type": "code",
   "execution_count": 8,
   "id": "d232260b",
   "metadata": {
    "scrolled": true
   },
   "outputs": [
    {
     "name": "stdout",
     "output_type": "stream",
     "text": [
      "Curtosis: -0.6126607185115627\n",
      "Asimetria: -0.007469046650921391\n"
     ]
    }
   ],
   "source": [
    "print('Curtosis:', ngb2.kurt())\n",
    "print('Asimetria:', ngb2.skew())"
   ]
  },
  {
   "cell_type": "markdown",
   "id": "9ba49a9d",
   "metadata": {},
   "source": [
    "En el caso del nivel de glucosa basal de los adultos encontramos que $ μ < Me $, y observamos una muy pequeña asimetría negativa. Observamos que la curtosis es menor que 0, por lo que sería levemente platicúrtica."
   ]
  },
  {
   "cell_type": "markdown",
   "id": "66dbbb3b",
   "metadata": {},
   "source": [
    "<b>c) Valor de cuartiles para el grupo de control 1, para ambas variables.<b>"
   ]
  },
  {
   "cell_type": "code",
   "execution_count": 9,
   "id": "068982a9",
   "metadata": {
    "scrolled": true
   },
   "outputs": [
    {
     "name": "stdout",
     "output_type": "stream",
     "text": [
      "Q1:  78\n",
      "Q3:  90\n",
      "RIC:  12\n"
     ]
    }
   ],
   "source": [
    "# Valor de los cuartiles para el nivel de glucosa basal, grupo 1\n",
    "print(\"Q1: \", q1_ngb1)\n",
    "print(\"Q3: \", q3_ngb1)\n",
    "print(\"RIC: \", ric_ngb1)"
   ]
  },
  {
   "cell_type": "markdown",
   "id": "869be27b",
   "metadata": {},
   "source": [
    "El Q1 representa que el 25% de las observaciones de la muestra se encuentran por debajo del valor 78.\n",
    "El Q3 representa que el 75% de las observaciones de la muestra se encuentran por debajo del valor 90.\n",
    "El RIC representa a los datos comprendidos entre el 25% y el 75% de las observaciones, es decir ese 50% entre el Q3 y Q1."
   ]
  },
  {
   "cell_type": "code",
   "execution_count": 10,
   "id": "13ea0afb",
   "metadata": {},
   "outputs": [
    {
     "name": "stdout",
     "output_type": "stream",
     "text": [
      "Q1:  146\n",
      "Q3:  154\n",
      "RIC:  8\n"
     ]
    }
   ],
   "source": [
    "# Separo el nivel de glucosa a la hora de la ingesta de 100 mg de glucosa\n",
    "ng60_1 = grupo1['Nivel glucosa 60 min']\n",
    "\n",
    "# Valor de los cuartiles para el nivel de glucosa a los 60 min de la ingesta de glucosa, grupo 1\n",
    "q1_ng60_1 = ng60_1.quantile(q=0.25, interpolation='lower')\n",
    "q3_ng60_1 = ng60_1.quantile(q=0.75, interpolation='lower')\n",
    "ric_ng60_1 = q3_ng60_1 - q1_ng60_1\n",
    "\n",
    "print('Q1: ', q1_ng60_1)\n",
    "print('Q3: ', q3_ng60_1)\n",
    "print('RIC: ', ric_ng60_1)"
   ]
  },
  {
   "cell_type": "markdown",
   "id": "445769de",
   "metadata": {},
   "source": [
    "El Q1 representa que el 25% de las observaciones de la muestra se encuentran por debajo del valor 146\n",
    "El Q3 representa que el 75% de las observaciones de la muestra se encuentran por debajo del valor 154\n",
    "El RIC representa a los datos comprendidos entre el 25% y el 75% de las observaciones, es decir ese 50% entre el Q3 y Q1."
   ]
  },
  {
   "cell_type": "markdown",
   "id": "9dfb5c46",
   "metadata": {},
   "source": [
    "<b>Boxplot para las variables de estudio, grupo de control 1.</b>"
   ]
  },
  {
   "cell_type": "code",
   "execution_count": 11,
   "id": "f0bc28fc",
   "metadata": {},
   "outputs": [
    {
     "data": {
      "image/png": "[encoded data removed]",
      "text/plain": [
       "<Figure size 640x480 with 1 Axes>"
      ]
     },
     "metadata": {},
     "output_type": "display_data"
    }
   ],
   "source": [
    "import seaborn as sns\n",
    "\n",
    "# Excluir la primera columna del grupo \n",
    "datos_grupo1 = grupo1.loc[:, grupo1.columns!='Grupo de control']\n",
    "flierprops = dict(marker='o', markerfacecolor='red', markersize=5, linestyle='none')\n",
    "fig = plt.figure()\n",
    "sns.set_style(\"whitegrid\")\n",
    "ax = fig.add_subplot(111)\n",
    "ax.set_title('Grupo de control 1')\n",
    "ax.set_ylabel('Glucosa mg/Dl')\n",
    "\n",
    "# Visualizacion del boxplot\n",
    "sns.boxplot(flierprops=flierprops,width=0.8,data=datos_grupo1);"
   ]
  },
  {
   "cell_type": "markdown",
   "id": "20d53654",
   "metadata": {},
   "source": [
    "En el primer *boxplot* podemos observar que no hay presencia de valores atípicos, es decir valores que estén por fuera de 1,5 veces por encima o por debajo del rango intercuartilico.\n",
    "\n",
    "En el segundo *boxplot* sí observamos la presencia de *outliers*. Para calcularlos realizamos:"
   ]
  },
  {
   "cell_type": "code",
   "execution_count": 12,
   "id": "d3c85bd4",
   "metadata": {},
   "outputs": [
    {
     "name": "stdout",
     "output_type": "stream",
     "text": [
      "El bigote superior del boxplot es igual a: 166.0, y el bigote inferior del boxplot: 134.0\n"
     ]
    }
   ],
   "source": [
    "upper_bound = q3_ng60_1+(1.5*ric_ng60_1)\n",
    "lower_bound = q1_ng60_1-(1.5*ric_ng60_1)\n",
    "print(f'El bigote superior del boxplot es igual a: {upper_bound}, y el bigote inferior del boxplot: {lower_bound}')"
   ]
  },
  {
   "cell_type": "code",
   "execution_count": 13,
   "id": "53051468",
   "metadata": {},
   "outputs": [
    {
     "data": {
      "text/plain": [
       "[172, 131]"
      ]
     },
     "execution_count": 13,
     "metadata": {},
     "output_type": "execute_result"
    }
   ],
   "source": [
    "outliers = []\n",
    "for i in ng60_1:\n",
    "    if i > upper_bound:\n",
    "        outliers.append(i)\n",
    "    elif i < lower_bound:\n",
    "        outliers.append(i)\n",
    "\n",
    "outliers"
   ]
  },
  {
   "cell_type": "markdown",
   "id": "6244837b",
   "metadata": {},
   "source": [
    "Según el boxplot del nivel de glucosa a los 60 minutos de la ingesta para el grupo 1, encontramos que **172 y 131** son valores atípicos o *outliers*."
   ]
  },
  {
   "cell_type": "markdown",
   "id": "08556098",
   "metadata": {},
   "source": [
    "**d) Normalidad de los datos del nivel de glucosa a los 60 min de la ingesta de glucosa, para ambos grupos de control.**"
   ]
  },
  {
   "cell_type": "code",
   "execution_count": 43,
   "id": "b5522b07",
   "metadata": {},
   "outputs": [
    {
     "data": {
      "image/png": "[encoded data removed]",
      "text/plain": [
       "<Figure size 700x400 with 1 Axes>"
      ]
     },
     "metadata": {},
     "output_type": "display_data"
    }
   ],
   "source": [
    "from scipy import stats\n",
    "\n",
    "# curva de la normal\n",
    "mu, sigma = stats.norm.fit(ng60_1)\n",
    "x_hat = np.linspace(min(ng60_1), max(ng60_1))\n",
    "y_hat = stats.norm.pdf(x_hat, mu, sigma)\n",
    "\n",
    "# Gráfico\n",
    "fig, ax = plt.subplots(figsize=(7,4))\n",
    "ax.plot(x_hat, y_hat, linewidth=2, label='normal')\n",
    "ax.hist(x=ng60_1, density=True, bins=35, color=\"#3182bd\", alpha=0.5)\n",
    "ax.set_title('Distribución NG a los 60 minutos - Grupo 1')\n",
    "ax.set_xlabel('Nivel del glucosa mg/Dl')\n",
    "ax.set_ylabel('Densidad de probabilidad')\n",
    "ax.legend();"
   ]
  },
  {
   "cell_type": "code",
   "execution_count": 44,
   "id": "48b3129d",
   "metadata": {},
   "outputs": [
    {
     "data": {
      "image/png": "[encoded data removed]",
      "text/plain": [
       "<Figure size 700x400 with 1 Axes>"
      ]
     },
     "metadata": {},
     "output_type": "display_data"
    }
   ],
   "source": [
    "ng60_2 = grupo2['Nivel glucosa 60 min']\n",
    "\n",
    "# curva de la normal\n",
    "mean_ng60_2 = ng60_2.mean()\n",
    "mu2 = mean_ng60_2\n",
    "std_ng60_2 = ng60_2.std()\n",
    "sigma2 = std_ng60_2\n",
    "x_hat2 = np.linspace(min(ng60_2), max(ng60_2))\n",
    "y_hat2 = stats.norm.pdf(x_hat2, mu2, sigma2)\n",
    "\n",
    "# Gráfico\n",
    "fig, ax = plt.subplots(figsize=(7,4))\n",
    "ax.plot(x_hat2, y_hat2, linewidth=2, label='normal')\n",
    "ax.hist(x=ng60_2, density=True, bins=30, color=\"#3182bd\", alpha=0.5)\n",
    "ax.plot(ng60_2, np.full_like(ng60_2, -0.01), '|k', markeredgewidth=1)\n",
    "ax.set_title('Distribución NG a los 60 minutos - Grupo 2')\n",
    "ax.set_xlabel('Nivel del glucosa mg/Dl')\n",
    "ax.set_ylabel('Densidad de probabilidad')\n",
    "ax.legend();"
   ]
  },
  {
   "cell_type": "code",
   "execution_count": 16,
   "id": "560229e6",
   "metadata": {},
   "outputs": [
    {
     "data": {
      "image/png": "[encoded data removed]",
      "text/plain": [
       "<Figure size 700x400 with 1 Axes>"
      ]
     },
     "metadata": {},
     "output_type": "display_data"
    }
   ],
   "source": [
    "# Configuración matplotlib\n",
    "plt.style.use('ggplot')\n",
    "\n",
    "# Q-Q Plot\n",
    "fig, ax = plt.subplots(figsize=(7,4))\n",
    "sm.qqplot(\n",
    "    ng60_1,\n",
    "    fit   = True,\n",
    "    line  = 'q',\n",
    "    alpha = 0.4,\n",
    "    lw    = 2,\n",
    "    ax    = ax\n",
    ")\n",
    "ax.set_title('Gráfico Q-Q del NG a los 60 min - Grupo 1', fontsize = 10,\n",
    "             fontweight = \"bold\")\n",
    "ax.tick_params(labelsize = 7)"
   ]
  },
  {
   "cell_type": "code",
   "execution_count": 17,
   "id": "53b8c73c",
   "metadata": {
    "scrolled": true
   },
   "outputs": [
    {
     "data": {
      "image/png": "[encoded data removed]",
      "text/plain": [
       "<Figure size 700x400 with 1 Axes>"
      ]
     },
     "metadata": {},
     "output_type": "display_data"
    }
   ],
   "source": [
    "# Q-Q Plot\n",
    "fig, ax = plt.subplots(figsize=(7,4))\n",
    "sm.qqplot(\n",
    "    ng60_2,\n",
    "    fit   = True,\n",
    "    line  = 'q',\n",
    "    alpha = 0.4,\n",
    "    lw    = 2,\n",
    "    ax    = ax\n",
    ")\n",
    "ax.set_title('Gráfico Q-Q del NG a los 60 min - Grupo 2', fontsize = 10,\n",
    "             fontweight = \"bold\")\n",
    "ax.tick_params(labelsize = 7)"
   ]
  },
  {
   "cell_type": "markdown",
   "id": "3735a9fd",
   "metadata": {},
   "source": [
    "Podemos observar también de manera gráfica (Q-Q plot) que los cuartiles se asemejan bastante a los cuartiles normales."
   ]
  },
  {
   "cell_type": "code",
   "execution_count": 18,
   "id": "7c9a2e64",
   "metadata": {},
   "outputs": [
    {
     "data": {
      "text/plain": [
       "ShapiroResult(statistic=0.9626076817512512, pvalue=0.2734089195728302)"
      ]
     },
     "execution_count": 18,
     "metadata": {},
     "output_type": "execute_result"
    }
   ],
   "source": [
    "# Shapiro-Wilk test grupo 1\n",
    "shapiro_test = stats.shapiro(ng60_1)\n",
    "shapiro_test"
   ]
  },
  {
   "cell_type": "code",
   "execution_count": 19,
   "id": "99f87a98",
   "metadata": {
    "scrolled": true
   },
   "outputs": [
    {
     "data": {
      "text/plain": [
       "ShapiroResult(statistic=0.9776138663291931, pvalue=0.7591866254806519)"
      ]
     },
     "execution_count": 19,
     "metadata": {},
     "output_type": "execute_result"
    }
   ],
   "source": [
    "# Shapiro-Wilk test grupo 2\n",
    "shapiro_test = stats.shapiro(ng60_2)\n",
    "shapiro_test"
   ]
  },
  {
   "cell_type": "markdown",
   "id": "8b58e4ea",
   "metadata": {},
   "source": [
    "Por los resultados obtenidos del *p-valor* del test Shapiro-Wilk, para el nivel de glucosa a los 60 minutos de ambos grupos, ninguno de los tests muestra evidencias para rechazar la hipótesis de que los datos se distribuyen de forma normal."
   ]
  },
  {
   "cell_type": "code",
   "execution_count": 20,
   "id": "8e17a7e7",
   "metadata": {},
   "outputs": [
    {
     "name": "stdout",
     "output_type": "stream",
     "text": [
      "Estadístico = 3.6141410458414556, p-value = 0.16413426075809492\n"
     ]
    }
   ],
   "source": [
    "# D'Agostino's K-squared test\n",
    "k2, p_value = stats.normaltest(ng60_1)\n",
    "print(f\"Estadístico = {k2}, p-value = {p_value}\")"
   ]
  },
  {
   "cell_type": "code",
   "execution_count": 21,
   "id": "6efbeed0",
   "metadata": {},
   "outputs": [
    {
     "name": "stdout",
     "output_type": "stream",
     "text": [
      "Estadístico = 0.5378866941075515, p-value = 0.7641865478412724\n"
     ]
    }
   ],
   "source": [
    "# D'Agostino's K-squared test\n",
    "k2, p_value = stats.normaltest(ng60_2)\n",
    "print(f\"Estadístico = {k2}, p-value = {p_value}\")"
   ]
  },
  {
   "cell_type": "markdown",
   "id": "8bbe0b1d",
   "metadata": {},
   "source": [
    "## Ejercicio 2"
   ]
  },
  {
   "cell_type": "markdown",
   "id": "e29685cf",
   "metadata": {},
   "source": [
    "**a) Estudio de la relación lineal entre las dos variables para el grupo de control 1.**"
   ]
  },
  {
   "cell_type": "code",
   "execution_count": 22,
   "id": "4d7e3f11",
   "metadata": {},
   "outputs": [
    {
     "name": "stdout",
     "output_type": "stream",
     "text": [
      "Correlación Pearson:  0.796405256684113\n"
     ]
    }
   ],
   "source": [
    "# Cálculo de correlación con Pandas\n",
    "print('Correlación Pearson: ', ngb1.corr(ng60_1, method='pearson'))"
   ]
  },
  {
   "cell_type": "markdown",
   "id": "e45dc866",
   "metadata": {},
   "source": [
    "Según el coeficiente de correlación de Pearson obtenido (0,79) podemos observar una asociación alta entre ambas variables, indicando que un aumento en el nivel de glucosa basal genera una variación positiva en el nivel de glucosa a los 60 minutos para pacientes jóvenes (grupo de control 1). "
   ]
  },
  {
   "cell_type": "markdown",
   "id": "61eb9ca4",
   "metadata": {},
   "source": [
    "**b) Modelo de regresión lineal**"
   ]
  },
  {
   "cell_type": "code",
   "execution_count": 23,
   "id": "d9f7ef83",
   "metadata": {},
   "outputs": [
    {
     "data": {
      "text/html": [
       "<table class=\"simpletable\">\n",
       "<caption>OLS Regression Results</caption>\n",
       "<tr>\n",
       "  <th>Dep. Variable:</th>    <td>Nivel glucosa 60 min</td> <th>  R-squared:         </th> <td>   0.634</td>\n",
       "</tr>\n",
       "<tr>\n",
       "  <th>Model:</th>                     <td>OLS</td>         <th>  Adj. R-squared:    </th> <td>   0.623</td>\n",
       "</tr>\n",
       "<tr>\n",
       "  <th>Method:</th>               <td>Least Squares</td>    <th>  F-statistic:       </th> <td>   57.23</td>\n",
       "</tr>\n",
       "<tr>\n",
       "  <th>Date:</th>               <td>Tue, 24 Jan 2023</td>   <th>  Prob (F-statistic):</th> <td>1.06e-08</td>\n",
       "</tr>\n",
       "<tr>\n",
       "  <th>Time:</th>                   <td>19:08:00</td>       <th>  Log-Likelihood:    </th> <td> -103.17</td>\n",
       "</tr>\n",
       "<tr>\n",
       "  <th>No. Observations:</th>        <td>    35</td>        <th>  AIC:               </th> <td>   210.3</td>\n",
       "</tr>\n",
       "<tr>\n",
       "  <th>Df Residuals:</th>            <td>    33</td>        <th>  BIC:               </th> <td>   213.5</td>\n",
       "</tr>\n",
       "<tr>\n",
       "  <th>Df Model:</th>                <td>     1</td>        <th>                     </th>     <td> </td>   \n",
       "</tr>\n",
       "<tr>\n",
       "  <th>Covariance Type:</th>        <td>nonrobust</td>      <th>                     </th>     <td> </td>   \n",
       "</tr>\n",
       "</table>\n",
       "<table class=\"simpletable\">\n",
       "<tr>\n",
       "           <td></td>              <th>coef</th>     <th>std err</th>      <th>t</th>      <th>P>|t|</th>  <th>[0.025</th>    <th>0.975]</th>  \n",
       "</tr>\n",
       "<tr>\n",
       "  <th>const</th>               <td>   91.3837</td> <td>    7.843</td> <td>   11.652</td> <td> 0.000</td> <td>   75.428</td> <td>  107.339</td>\n",
       "</tr>\n",
       "<tr>\n",
       "  <th>Nivel glucosa basal</th> <td>    0.6969</td> <td>    0.092</td> <td>    7.565</td> <td> 0.000</td> <td>    0.509</td> <td>    0.884</td>\n",
       "</tr>\n",
       "</table>\n",
       "<table class=\"simpletable\">\n",
       "<tr>\n",
       "  <th>Omnibus:</th>       <td> 1.394</td> <th>  Durbin-Watson:     </th> <td>   1.615</td>\n",
       "</tr>\n",
       "<tr>\n",
       "  <th>Prob(Omnibus):</th> <td> 0.498</td> <th>  Jarque-Bera (JB):  </th> <td>   1.175</td>\n",
       "</tr>\n",
       "<tr>\n",
       "  <th>Skew:</th>          <td> 0.433</td> <th>  Prob(JB):          </th> <td>   0.556</td>\n",
       "</tr>\n",
       "<tr>\n",
       "  <th>Kurtosis:</th>      <td> 2.765</td> <th>  Cond. No.          </th> <td>    832.</td>\n",
       "</tr>\n",
       "</table><br/><br/>Notes:<br/>[1] Standard Errors assume that the covariance matrix of the errors is correctly specified."
      ],
      "text/plain": [
       "<class 'statsmodels.iolib.summary.Summary'>\n",
       "\"\"\"\n",
       "                             OLS Regression Results                             \n",
       "================================================================================\n",
       "Dep. Variable:     Nivel glucosa 60 min   R-squared:                       0.634\n",
       "Model:                              OLS   Adj. R-squared:                  0.623\n",
       "Method:                   Least Squares   F-statistic:                     57.23\n",
       "Date:                  Tue, 24 Jan 2023   Prob (F-statistic):           1.06e-08\n",
       "Time:                          19:08:00   Log-Likelihood:                -103.17\n",
       "No. Observations:                    35   AIC:                             210.3\n",
       "Df Residuals:                        33   BIC:                             213.5\n",
       "Df Model:                             1                                         \n",
       "Covariance Type:              nonrobust                                         \n",
       "=======================================================================================\n",
       "                          coef    std err          t      P>|t|      [0.025      0.975]\n",
       "---------------------------------------------------------------------------------------\n",
       "const                  91.3837      7.843     11.652      0.000      75.428     107.339\n",
       "Nivel glucosa basal     0.6969      0.092      7.565      0.000       0.509       0.884\n",
       "==============================================================================\n",
       "Omnibus:                        1.394   Durbin-Watson:                   1.615\n",
       "Prob(Omnibus):                  0.498   Jarque-Bera (JB):                1.175\n",
       "Skew:                           0.433   Prob(JB):                        0.556\n",
       "Kurtosis:                       2.765   Cond. No.                         832.\n",
       "==============================================================================\n",
       "\n",
       "Notes:\n",
       "[1] Standard Errors assume that the covariance matrix of the errors is correctly specified.\n",
       "\"\"\""
      ]
     },
     "execution_count": 23,
     "metadata": {},
     "output_type": "execute_result"
    }
   ],
   "source": [
    "import statsmodels.api as sm\n",
    "\n",
    "x = sm.add_constant(ngb1)\n",
    "y = ng60_1\n",
    "modelo = sm.OLS(y, x).fit()\n",
    "modelo.summary()"
   ]
  },
  {
   "cell_type": "code",
   "execution_count": 24,
   "id": "d8c0ac22",
   "metadata": {},
   "outputs": [],
   "source": [
    "from sklearn.linear_model import LinearRegression\n",
    "\n",
    "x = ngb1.values.reshape(-1, 1)\n",
    "y = ng60_1.values.reshape(-1, 1)\n",
    "linear_regressor = LinearRegression()\n",
    "linear_regressor.fit(x, y)\n",
    "y_pred = linear_regressor.predict(x)"
   ]
  },
  {
   "cell_type": "code",
   "execution_count": 25,
   "id": "b1fefd3b",
   "metadata": {},
   "outputs": [
    {
     "data": {
      "image/png": "[encoded data removed]",
      "text/plain": [
       "<Figure size 640x480 with 1 Axes>"
      ]
     },
     "metadata": {},
     "output_type": "display_data"
    }
   ],
   "source": [
    "plt.scatter(x, y)\n",
    "plt.plot(x, y_pred, color='blue')\n",
    "plt.show()"
   ]
  },
  {
   "cell_type": "markdown",
   "id": "d3d21d07",
   "metadata": {},
   "source": [
    "Obtenemos el modelo para el grupo de control 1:\n",
    "\n",
    "$β_0 = 91,3837$\n",
    "\n",
    "$β_1 = 0,6969$\n",
    "\n",
    "$Nivel glucosa 60 min = 91,3837 + Nivel glucosa basal * 0,6969$"
   ]
  },
  {
   "cell_type": "code",
   "execution_count": 26,
   "id": "0efe65b4",
   "metadata": {},
   "outputs": [
    {
     "data": {
      "text/plain": [
       "149.2264"
      ]
     },
     "execution_count": 26,
     "metadata": {},
     "output_type": "execute_result"
    }
   ],
   "source": [
    "# obtenemos el f(83)\n",
    "f_83 = 91.3837 + 83 * 0.6969\n",
    "f_83"
   ]
  },
  {
   "cell_type": "markdown",
   "id": "c71695b8",
   "metadata": {},
   "source": [
    "Según nuestro modelo de regresión lineal podemos **estimar** que para un paciente cuyo nivel de glucosa basal es de **83 mg/Dl**, a los _60 minutos_ tendrá unos **149,2264 mg/Dl**."
   ]
  },
  {
   "cell_type": "markdown",
   "id": "10f57dd0",
   "metadata": {},
   "source": [
    "**c) Porcentaje no explicado por el modelo de regresión lineal del nivel de glucosa a la hora de la ingesta:**"
   ]
  },
  {
   "cell_type": "code",
   "execution_count": 27,
   "id": "058860a1",
   "metadata": {},
   "outputs": [
    {
     "name": "stdout",
     "output_type": "stream",
     "text": [
      "Coeficiente r2:  0.634261332874088\n"
     ]
    }
   ],
   "source": [
    "r2 = linear_regressor.score(x,y)\n",
    "print('Coeficiente r2: ',r2)"
   ]
  },
  {
   "cell_type": "markdown",
   "id": "dd731ac8",
   "metadata": {},
   "source": [
    "Una vez conocido el coeficiente de determinación $r^2$, en este caso $r^2$ = 63,43% , podemos decir que hay un 36,57% no explicado por el modelo anterior del nivel de glucosa pasados 60 minutos."
   ]
  },
  {
   "cell_type": "markdown",
   "id": "d118594b",
   "metadata": {},
   "source": [
    "**d) Aumento del nivel de glucosa basal en 5mg/Dl y su variación a los 60 minutos.**"
   ]
  },
  {
   "cell_type": "code",
   "execution_count": 28,
   "id": "d19f03b2",
   "metadata": {},
   "outputs": [],
   "source": [
    "beta_1 = 0.6969"
   ]
  },
  {
   "cell_type": "markdown",
   "id": "9fc09518",
   "metadata": {},
   "source": [
    "El valor de $β_1 = 0,6969$ nos indica que por cada unidad que aumenta el nivel de glucosa basal, aumenta 0,6969 grados el nivel de glucosa basal a los 60 minutos."
   ]
  },
  {
   "cell_type": "code",
   "execution_count": 29,
   "id": "e764a732",
   "metadata": {},
   "outputs": [
    {
     "name": "stdout",
     "output_type": "stream",
     "text": [
      "Variación del nivel de glucosa basal por 5 mg/Dl:  3.4844999999999997\n"
     ]
    }
   ],
   "source": [
    "print('Variación del nivel de glucosa basal por 5 mg/Dl: ',beta_1 * 5)"
   ]
  },
  {
   "cell_type": "markdown",
   "id": "bbe542dc",
   "metadata": {},
   "source": [
    "De acuerdo a los coeficientes obtenidos del modelo podemos estimar que por cada **5 mg/Dl** de aumento en el nivel de glucosa basal de un paciente, a los _60 minutos_ aumentaría un **3,4845 mg/Dl.**"
   ]
  },
  {
   "cell_type": "markdown",
   "id": "6f25e384",
   "metadata": {},
   "source": [
    "## Ejercicio 3"
   ]
  },
  {
   "cell_type": "markdown",
   "id": "1cbc1dee",
   "metadata": {},
   "source": [
    "**a) Estudio del nivel de glucosa basal medio en los jóvenes como 88 mg/Dl con intervalos de confianza del 95% y 99%.**"
   ]
  },
  {
   "cell_type": "code",
   "execution_count": 30,
   "id": "a208661a",
   "metadata": {},
   "outputs": [
    {
     "data": {
      "text/plain": [
       "(81.64758693301904, 87.72384163840952)"
      ]
     },
     "execution_count": 30,
     "metadata": {},
     "output_type": "execute_result"
    }
   ],
   "source": [
    "stats.t.interval(confidence=0.95,df=len(ngb1)-1,loc=mean_ngb1,scale=stats.sem(ngb1))"
   ]
  },
  {
   "cell_type": "code",
   "execution_count": 31,
   "id": "4879a9ce",
   "metadata": {},
   "outputs": [
    {
     "data": {
      "text/plain": [
       "(80.60686967940265, 88.76455889202592)"
      ]
     },
     "execution_count": 31,
     "metadata": {},
     "output_type": "execute_result"
    }
   ],
   "source": [
    "stats.t.interval(confidence=0.99,df=len(ngb1)-1,loc=mean_ngb1,scale=stats.sem(ngb1))"
   ]
  },
  {
   "cell_type": "markdown",
   "id": "83767ee9",
   "metadata": {},
   "source": [
    "Con los resultados obtenidos **no podemos admitir** que el nivel de glucosa basal media para los jóvenes sea de 88 mg/Dl con un intervalo de confianza del **95%** pero **sí podemos hacerlo** para un intervalo de confianza del **99%**."
   ]
  },
  {
   "cell_type": "markdown",
   "id": "a68bc0ea",
   "metadata": {},
   "source": [
    "**b) Estudio de diferencia de medias del nivel de glucosa basal para ambos grupos de control, con intervalos de confianza del 95% y 99%.**"
   ]
  },
  {
   "cell_type": "markdown",
   "id": "e83f8c17",
   "metadata": {},
   "source": [
    "Utilizamos el test *t de Student* para analizar el comportamiento de las medias de dos muestras **independientes.**"
   ]
  },
  {
   "cell_type": "markdown",
   "id": "d7ed6495",
   "metadata": {},
   "source": [
    "Primero debemos comprobar la **normalidad** de las poblaciones, para ello utilizamos el test de Shapiro-Wilk:"
   ]
  },
  {
   "cell_type": "code",
   "execution_count": 50,
   "id": "6cd3c49f",
   "metadata": {},
   "outputs": [
    {
     "data": {
      "text/plain": [
       "ShapiroResult(statistic=0.9678662419319153, pvalue=0.38737523555755615)"
      ]
     },
     "execution_count": 50,
     "metadata": {},
     "output_type": "execute_result"
    }
   ],
   "source": [
    "# Test de normalidad Shapiro-Wilk\n",
    "stats.shapiro(ngb1)"
   ]
  },
  {
   "cell_type": "code",
   "execution_count": 49,
   "id": "a442622f",
   "metadata": {},
   "outputs": [
    {
     "data": {
      "text/plain": [
       "ShapiroResult(statistic=0.9675338268280029, pvalue=0.474089115858078)"
      ]
     },
     "execution_count": 49,
     "metadata": {},
     "output_type": "execute_result"
    }
   ],
   "source": [
    "# Test de normalidad Shapiro-Wilk\n",
    "stats.shapiro(ngb2)"
   ]
  },
  {
   "cell_type": "markdown",
   "id": "6431ef26",
   "metadata": {},
   "source": [
    "Con el test de Shapiro-Wilk no encontramos evidencia significativa de que los datos no proceden de poblaciones con distribución normal (al ser el *p-valor* superior al 5% de significancia)."
   ]
  },
  {
   "cell_type": "code",
   "execution_count": 53,
   "id": "b3509359",
   "metadata": {},
   "outputs": [
    {
     "data": {
      "text/plain": [
       "BartlettResult(statistic=1.0443714849182046, pvalue=0.30680695516519924)"
      ]
     },
     "execution_count": 53,
     "metadata": {},
     "output_type": "execute_result"
    }
   ],
   "source": [
    "# Test de homocedasticidad\n",
    "stats.bartlett(ngb1, ngb2)"
   ]
  },
  {
   "cell_type": "markdown",
   "id": "525e52b2",
   "metadata": {},
   "source": [
    "Por el test de homegeneidad de varianzas de Bartlett, no se encuentran evidencias significativas (para $\\alpha$ = 5%) de que las varianzas sean distintas entre ambas poblaciones y podemos realizar el *t-test*."
   ]
  },
  {
   "cell_type": "code",
   "execution_count": 47,
   "id": "49bc4152",
   "metadata": {},
   "outputs": [
    {
     "data": {
      "text/html": [
       "<div>\n",
       "<style scoped>\n",
       "    .dataframe tbody tr th:only-of-type {\n",
       "        vertical-align: middle;\n",
       "    }\n",
       "\n",
       "    .dataframe tbody tr th {\n",
       "        vertical-align: top;\n",
       "    }\n",
       "\n",
       "    .dataframe thead th {\n",
       "        text-align: right;\n",
       "    }\n",
       "</style>\n",
       "<table border=\"1\" class=\"dataframe\">\n",
       "  <thead>\n",
       "    <tr style=\"text-align: right;\">\n",
       "      <th></th>\n",
       "      <th>T</th>\n",
       "      <th>dof</th>\n",
       "      <th>alternative</th>\n",
       "      <th>p-val</th>\n",
       "      <th>CI95%</th>\n",
       "      <th>cohen-d</th>\n",
       "      <th>BF10</th>\n",
       "      <th>power</th>\n",
       "    </tr>\n",
       "  </thead>\n",
       "  <tbody>\n",
       "    <tr>\n",
       "      <th>T-test</th>\n",
       "      <td>-2.31379</td>\n",
       "      <td>63</td>\n",
       "      <td>two-sided</td>\n",
       "      <td>0.023954</td>\n",
       "      <td>[-8.79, -0.64]</td>\n",
       "      <td>0.575686</td>\n",
       "      <td>2.35</td>\n",
       "      <td>0.624939</td>\n",
       "    </tr>\n",
       "  </tbody>\n",
       "</table>\n",
       "</div>"
      ],
      "text/plain": [
       "              T  dof alternative     p-val           CI95%   cohen-d  BF10  \\\n",
       "T-test -2.31379   63   two-sided  0.023954  [-8.79, -0.64]  0.575686  2.35   \n",
       "\n",
       "           power  \n",
       "T-test  0.624939  "
      ]
     },
     "execution_count": 47,
     "metadata": {},
     "output_type": "execute_result"
    }
   ],
   "source": [
    "import pingouin as pg\n",
    "pg.ttest(x=ngb1, y=ngb2, alternative='two-sided', correction=False, confidence=0.95)"
   ]
  },
  {
   "cell_type": "markdown",
   "id": "5708d2f7",
   "metadata": {},
   "source": [
    "Como el intervalo de confianza al 95% obtenido no presenta el valor cero, **no podemos aceptar** la $H_0: \\hat{x_1} = \\hat{x_2}$."
   ]
  },
  {
   "cell_type": "code",
   "execution_count": 45,
   "id": "d9cc09cd",
   "metadata": {
    "scrolled": true
   },
   "outputs": [
    {
     "data": {
      "text/html": [
       "<div>\n",
       "<style scoped>\n",
       "    .dataframe tbody tr th:only-of-type {\n",
       "        vertical-align: middle;\n",
       "    }\n",
       "\n",
       "    .dataframe tbody tr th {\n",
       "        vertical-align: top;\n",
       "    }\n",
       "\n",
       "    .dataframe thead th {\n",
       "        text-align: right;\n",
       "    }\n",
       "</style>\n",
       "<table border=\"1\" class=\"dataframe\">\n",
       "  <thead>\n",
       "    <tr style=\"text-align: right;\">\n",
       "      <th></th>\n",
       "      <th>T</th>\n",
       "      <th>dof</th>\n",
       "      <th>alternative</th>\n",
       "      <th>p-val</th>\n",
       "      <th>CI99%</th>\n",
       "      <th>cohen-d</th>\n",
       "      <th>BF10</th>\n",
       "      <th>power</th>\n",
       "    </tr>\n",
       "  </thead>\n",
       "  <tbody>\n",
       "    <tr>\n",
       "      <th>T-test</th>\n",
       "      <td>-2.31379</td>\n",
       "      <td>63</td>\n",
       "      <td>two-sided</td>\n",
       "      <td>0.023954</td>\n",
       "      <td>[-10.12610989442638, 0.6975384658549327]</td>\n",
       "      <td>0.575686</td>\n",
       "      <td>2.35</td>\n",
       "      <td>0.624939</td>\n",
       "    </tr>\n",
       "  </tbody>\n",
       "</table>\n",
       "</div>"
      ],
      "text/plain": [
       "              T  dof alternative     p-val  \\\n",
       "T-test -2.31379   63   two-sided  0.023954   \n",
       "\n",
       "                                           CI99%   cohen-d  BF10     power  \n",
       "T-test  [-10.12610989442638, 0.6975384658549327]  0.575686  2.35  0.624939  "
      ]
     },
     "execution_count": 45,
     "metadata": {},
     "output_type": "execute_result"
    }
   ],
   "source": [
    "pg.ttest(x=ngb1, y=ngb2, alternative='two-sided', correction=False, confidence=0.99)"
   ]
  },
  {
   "cell_type": "markdown",
   "id": "8e7405a0",
   "metadata": {},
   "source": [
    "Para el intervalo de confianza al 99%, **no podemos rechazar** la hipótesis nula al estar comprendido el cero dentro del intervalo."
   ]
  },
  {
   "cell_type": "markdown",
   "id": "891c7c8b",
   "metadata": {},
   "source": [
    "**c) Estudio de la proporción de la población con un nivel de glucosa basal superior a 95 mg/Dl con intervalo de confianza del 98%. \n",
    "Hipotesis proporción de la población NG > 95 mg/Dl = 0.15 con nivel de significación del 5%.**"
   ]
  },
  {
   "cell_type": "markdown",
   "id": "48b77d12",
   "metadata": {},
   "source": [
    "Calculamos el intervalo de confianza para la proporción poblacional, para el nivel de glucosa basal > 95 mg/Dl, con un confianza del 98%.\n",
    "\n",
    "$$IC(p) = \\hat{p} ± [z_{a/2} \\frac{\\sqrt{\\hat{p} (1-\\hat{p})}}{\\sqrt{n}}] $$"
   ]
  },
  {
   "cell_type": "code",
   "execution_count": 37,
   "id": "b9a5b7fb",
   "metadata": {},
   "outputs": [
    {
     "name": "stdout",
     "output_type": "stream",
     "text": [
      "El intervalo de confianza para la proporción poblacional con nivel de glucosa mayor a 95 mg/Dl es igual a:\n",
      " (0.06103809745101678, 0.2774234410105217)\n"
     ]
    }
   ],
   "source": [
    "from statsmodels.stats.proportion import proportion_confint   \n",
    "\n",
    "n_glucosa_alta = len(df[df['Nivel glucosa basal'] > 95]['Nivel glucosa basal'])\n",
    "IC98 = proportion_confint(count=n_glucosa_alta, nobs= (len(ngb1) + len(ngb2)), alpha=(1 - 0.98))\n",
    "print('El intervalo de confianza para la proporción poblacional con nivel de glucosa mayor a 95 mg/Dl es igual a:\\n', IC98 )"
   ]
  },
  {
   "cell_type": "markdown",
   "id": "184d4009",
   "metadata": {},
   "source": [
    "Ahora consideramos el siguiente contraste de hipótesis:\n",
    "$$H_0: \\hat{p} = 0.15$$\n",
    "$$H_1: \\hat{p} ≠ 0.15$$"
   ]
  },
  {
   "cell_type": "code",
   "execution_count": 38,
   "id": "ad71b215",
   "metadata": {},
   "outputs": [
    {
     "name": "stdout",
     "output_type": "stream",
     "text": [
      "Para el 95% de confianza, el intervalo de proporción poblacional obtenido es:\n",
      " (0.07807770375602453, 0.26038383470551396)\n"
     ]
    }
   ],
   "source": [
    "IC95 = proportion_confint(count=n_glucosa_alta, nobs= (len(ngb1) + len(ngb2)), alpha=(1 - 0.95))\n",
    "print('Para el 95% de confianza, el intervalo de proporción poblacional obtenido es:\\n', IC95)"
   ]
  },
  {
   "cell_type": "markdown",
   "id": "16a7ef09",
   "metadata": {},
   "source": [
    "Como podemos observar la proporción de la $H_0$ se encuentra dentro de los valores con un nivel de significancia del 5%, por lo tanto **no podemos rechazar** la hipótesis nula planteada."
   ]
  },
  {
   "cell_type": "markdown",
   "id": "1481d433",
   "metadata": {},
   "source": [
    "**d) VOLUNTARIO. Contraste de muestras emparejadas.**"
   ]
  },
  {
   "cell_type": "markdown",
   "id": "9c8fd742",
   "metadata": {},
   "source": [
    "Esta vez utilizamos el test *t de Student* para analizar el comportamiento de las medias de dos muestras **dependientes/emparejadas.**"
   ]
  },
  {
   "cell_type": "markdown",
   "id": "12001950",
   "metadata": {},
   "source": [
    "Primero debemos comprobar la **normalidad** de las poblaciones, para ello utilizamos el test de Shapiro-Wilk:"
   ]
  },
  {
   "cell_type": "code",
   "execution_count": 56,
   "id": "0a044519",
   "metadata": {},
   "outputs": [
    {
     "data": {
      "text/plain": [
       "ShapiroResult(statistic=0.9678662419319153, pvalue=0.38737523555755615)"
      ]
     },
     "execution_count": 56,
     "metadata": {},
     "output_type": "execute_result"
    }
   ],
   "source": [
    "# Test de normalidad Shapiro-Wilk\n",
    "stats.shapiro(ngb2)"
   ]
  },
  {
   "cell_type": "code",
   "execution_count": 60,
   "id": "2cc77425",
   "metadata": {},
   "outputs": [
    {
     "data": {
      "text/plain": [
       "ShapiroResult(statistic=0.9776138663291931, pvalue=0.7591866254806519)"
      ]
     },
     "execution_count": 60,
     "metadata": {},
     "output_type": "execute_result"
    }
   ],
   "source": [
    "# Test de normalidad Shapiro-Wilk\n",
    "ng60_2 = grupo2['Nivel glucosa 60 min']\n",
    "stats.shapiro(ng60_2)"
   ]
  },
  {
   "cell_type": "markdown",
   "id": "6cbf85ec",
   "metadata": {},
   "source": [
    "Con el test de Shapiro-Wilk no encontramos evidencia significativa de que los datos no proceden de poblaciones con distribución normal (al ser el *p-valor* superior al 5% de significancia)."
   ]
  },
  {
   "cell_type": "markdown",
   "id": "6b6ec101",
   "metadata": {},
   "source": [
    "No es necesario que las varianzas de ambos grupos sean iguales (homocedasticidad no necesaria). Por ello realizamos el *t-test* de muestras emparejadas:"
   ]
  },
  {
   "cell_type": "markdown",
   "id": "bea087bf",
   "metadata": {},
   "source": [
    "**Hipótesis:**"
   ]
  },
  {
   "cell_type": "markdown",
   "id": "cd493eb1",
   "metadata": {},
   "source": [
    "$H_0:$ no hay variación significativa del nivel de glucosa en sangre en el grupo de control 2, después de la ingesta de glucosa.\n",
    "\n",
    "$H_1:$ si hay diferencia significativa del nivel de glucosa en sangre en el grupo de control 2, después de la ingesta de glucosa."
   ]
  },
  {
   "cell_type": "code",
   "execution_count": 41,
   "id": "9517f9f3",
   "metadata": {},
   "outputs": [
    {
     "data": {
      "text/html": [
       "<div>\n",
       "<style scoped>\n",
       "    .dataframe tbody tr th:only-of-type {\n",
       "        vertical-align: middle;\n",
       "    }\n",
       "\n",
       "    .dataframe tbody tr th {\n",
       "        vertical-align: top;\n",
       "    }\n",
       "\n",
       "    .dataframe thead th {\n",
       "        text-align: right;\n",
       "    }\n",
       "</style>\n",
       "<table border=\"1\" class=\"dataframe\">\n",
       "  <thead>\n",
       "    <tr style=\"text-align: right;\">\n",
       "      <th></th>\n",
       "      <th>T</th>\n",
       "      <th>dof</th>\n",
       "      <th>alternative</th>\n",
       "      <th>p-val</th>\n",
       "      <th>CI95%</th>\n",
       "      <th>cohen-d</th>\n",
       "      <th>BF10</th>\n",
       "      <th>power</th>\n",
       "    </tr>\n",
       "  </thead>\n",
       "  <tbody>\n",
       "    <tr>\n",
       "      <th>T-test</th>\n",
       "      <td>34.374099</td>\n",
       "      <td>29</td>\n",
       "      <td>two-sided</td>\n",
       "      <td>4.712941e-25</td>\n",
       "      <td>[77.53, 87.34]</td>\n",
       "      <td>8.817389</td>\n",
       "      <td>5.454e+21</td>\n",
       "      <td>1.0</td>\n",
       "    </tr>\n",
       "  </tbody>\n",
       "</table>\n",
       "</div>"
      ],
      "text/plain": [
       "                T  dof alternative         p-val           CI95%   cohen-d  \\\n",
       "T-test  34.374099   29   two-sided  4.712941e-25  [77.53, 87.34]  8.817389   \n",
       "\n",
       "             BF10  power  \n",
       "T-test  5.454e+21    1.0  "
      ]
     },
     "execution_count": 41,
     "metadata": {},
     "output_type": "execute_result"
    }
   ],
   "source": [
    "# Test t para datos dependientes (p-valor, intervalos de confianza)\n",
    "pg.ttest(y=ngb2, x=ng60_2, alternative='two-sided', paired=True, correction=False)"
   ]
  },
  {
   "cell_type": "markdown",
   "id": "476a4288",
   "metadata": {},
   "source": [
    "**Conclusión**"
   ]
  },
  {
   "cell_type": "markdown",
   "id": "ef810574",
   "metadata": {},
   "source": [
    "El *p-valor* obtenido por el t-test emparejado es menor al nivel de significancia establecido ( $\\alpha=0.05$ ), por lo que podemos rechazar la hipótesis nula y acepta la hipótesis alternativa. Podemos considerar que **si hay** una variación significativa del nivel de glucosa antes y después de la ingesta."
   ]
  }
 ],
 "metadata": {
  "kernelspec": {
   "display_name": "Python 3 (ipykernel)",
   "language": "python",
   "name": "python3"
  },
  "language_info": {
   "codemirror_mode": {
    "name": "ipython",
    "version": 3
   },
   "file_extension": ".py",
   "mimetype": "text/x-python",
   "name": "python",
   "nbconvert_exporter": "python",
   "pygments_lexer": "ipython3",
   "version": "3.9.13"
  }
 },
 "nbformat": 4,
 "nbformat_minor": 5
}
